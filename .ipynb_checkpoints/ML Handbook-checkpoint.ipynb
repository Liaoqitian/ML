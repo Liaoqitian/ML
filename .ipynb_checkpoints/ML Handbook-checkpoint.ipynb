{
 "cells": [
  {
   "cell_type": "markdown",
   "metadata": {},
   "source": [
    "# Python Configuration and Data Loading"
   ]
  },
  {
   "cell_type": "code",
   "execution_count": 1,
   "metadata": {},
   "outputs": [],
   "source": [
    "import numpy as np\n",
    "import matplotlib.pyplot as plt\n",
    "\n",
    "from sklearn import svm \n",
    "from sklearn.utils import shuffle\n",
    "from sklearn.metrics import accuracy_score\n",
    "\n",
    "import pandas as pd\n",
    "from scipy import io"
   ]
  },
  {
   "cell_type": "markdown",
   "metadata": {},
   "source": [
    "## Data Introduction"
   ]
  },
  {
   "cell_type": "markdown",
   "metadata": {},
   "source": [
    "**mnist_data.mat** contains data from the `MNIST` dataset. There are 60,000 labeled digit images for training, and 10,000 digit images for testing. The images are flattened grayscale, 28*28 pixels. There are 10 possible labels for each image, namely, the digits 0–9."
   ]
  },
  {
   "cell_type": "markdown",
   "metadata": {},
   "source": [
    "**spam data.mat** contains featurized `spam` data. The labels are 1 for spam and 0 for ham. The data folder includes the script **featurize.py** and the folders **spam**, **ham** (not spam), and test (unlabeled test data); **featurize.py** may be modified to generate new features for the spam data."
   ]
  },
  {
   "cell_type": "markdown",
   "metadata": {},
   "source": [
    "**cifar10 data.mat** contains data from the `CIFAR10` dataset. There are 50,000 labeled object images for training, and 10,000 object images for testing. The images are flattened to 3*32*32 (3 color channels). The labels 0–9 correspond alphabetically to the categories. For example, 0 means airplane, 1 means automobile, 2 means bird, and so on."
   ]
  },
  {
   "cell_type": "markdown",
   "metadata": {},
   "source": [
    "**training_data:** The training set features. Rows are sample points and columns are features.  \n",
    "**training_labels:** The training set labels. Rows are sample points; Column are the labels corresponding to rows of `training_data` above.  \n",
    "**test_data:** The test set features. Rows are sample points and columns are features.  "
   ]
  },
  {
   "cell_type": "code",
   "execution_count": 2,
   "metadata": {},
   "outputs": [
    {
     "name": "stdout",
     "output_type": "stream",
     "text": [
      "\n",
      "loaded mnist data!\n",
      "test_data (10000, 784)\n",
      "training_data (60000, 784)\n",
      "training_labels (60000, 1)\n",
      "\n",
      "loaded spam data!\n",
      "test_data (5857, 32)\n",
      "training_data (5172, 32)\n",
      "training_labels (5172, 1)\n",
      "\n",
      "loaded cifar10 data!\n",
      "test_data (10000, 3072)\n",
      "training_data (50000, 3072)\n",
      "training_labels (50000, 1)\n"
     ]
    }
   ],
   "source": [
    "for data_name in [\"mnist\", \"spam\", \"cifar10\"]:\n",
    "    data = io.loadmat(\"data/{}_data.mat\".format(data_name))\n",
    "    print(\"\\nloaded {} data!\".format(data_name))\n",
    "    fields = (\"test_data\", \"training_data\", \"training_labels\")\n",
    "    for field in fields:\n",
    "        print(field, data[field].shape)"
   ]
  },
  {
   "cell_type": "markdown",
   "metadata": {},
   "source": [
    "## Data Partitioning"
   ]
  },
  {
   "cell_type": "markdown",
   "metadata": {},
   "source": [
    "Here is a function that partitions the available labeled data into a training set and a validation set. "
   ]
  },
  {
   "cell_type": "code",
   "execution_count": 3,
   "metadata": {},
   "outputs": [],
   "source": [
    "def partition(size, training_data, training_labels): # size refers to the size of the validation set\n",
    "    index = np.random.permutation(len(training_data)) # Randomly shuffle the data set. \n",
    "    validation_data = training_data[index][:size]\n",
    "    validation_label = training_labels[index][:size]\n",
    "    training_data = training_data[index][size:]\n",
    "    training_label = training_labels[index][size:]\n",
    "    return validation_data, validation_label, training_data, training_label"
   ]
  },
  {
   "cell_type": "markdown",
   "metadata": {},
   "source": [
    "In this case, we set aside 10,000 training images as a validation set. "
   ]
  },
  {
   "cell_type": "code",
   "execution_count": 4,
   "metadata": {},
   "outputs": [],
   "source": [
    "mnist_data = io.loadmat(\"data/mnist_data.mat\")\n",
    "mnist_training_data = mnist_data[\"training_data\"]\n",
    "mnist_training_label = mnist_data[\"training_labels\"]\n",
    "mnist_validation_data, mnist_validation_labels, mnist_training_data, mnist_training_labels = partition(10000, mnist_training_data, mnist_training_label)"
   ]
  },
  {
   "cell_type": "markdown",
   "metadata": {},
   "source": [
    "## Support Vector Machines"
   ]
  },
  {
   "cell_type": "markdown",
   "metadata": {},
   "source": [
    "We use linear Support Vector Machines to classify the datasets. For images, we will use the simplest of features for classification: raw pixel brightness values. In other words, our feature vector for an image will be a row vector with all the pixel values concatenated in a row major (or column major) order. "
   ]
  },
  {
   "cell_type": "markdown",
   "metadata": {},
   "source": [
    "Now we train a linear Support Vector Machine (SVM) on `mnist` data set. And we plot the error rate on the training and validation sets versus the number of training examples that we used to train our classifier. Let's try to train our model with the following number of training examples: 100, 200, 500, 1000, 2000, 5000, 10,000. "
   ]
  },
  {
   "cell_type": "code",
   "execution_count": 5,
   "metadata": {},
   "outputs": [],
   "source": [
    "def select_training_examples(size, training_data, training_labels):\n",
    "    index = np.random.permutation(len(training_data))\n",
    "    selected_training_data = training_data[index][:size]\n",
    "    selected_training_labels = training_labels[index][:size]\n",
    "    return selected_training_data, selected_training_labels"
   ]
  },
  {
   "cell_type": "code",
   "execution_count": 6,
   "metadata": {},
   "outputs": [],
   "source": [
    "def train_SVM(training_sizes: np.array, validation_data, validation_labels, training_data, training_labels): \n",
    "    training_scores = []\n",
    "    validation_scores = []\n",
    "    for size in training_sizes:\n",
    "        selected_training_data, selected_training_labels = select_training_examples(size, training_data, training_labels)\n",
    "        classifier = svm.SVC(kernel=\"linear\") # Support Vector Classifier\n",
    "        classifier.fit(selected_training_data, selected_training_labels.ravel())\n",
    "        training_predictions = classifier.predict(training_data)\n",
    "        training_scores = np.append(training_scores, [accuracy_score(training_labels, training_predictions)])\n",
    "        validation_predictions = classifier.predict(validation_data)\n",
    "        validation_scores = np.append(validation_scores, [accuracy_score(validation_labels, validation_predictions)])\n",
    "    return training_scores, validation_scores"
   ]
  },
  {
   "cell_type": "code",
   "execution_count": 7,
   "metadata": {},
   "outputs": [],
   "source": [
    "training_sizes = np.array([100, 200, 500, 1000, 2000, 5000, 10000])\n",
    "mnist_training_scores, mnist_validation_scores = train_SVM(training_sizes, mnist_validation_data, mnist_validation_labels, mnist_training_data, mnist_training_labels)"
   ]
  },
  {
   "cell_type": "code",
   "execution_count": 8,
   "metadata": {},
   "outputs": [
    {
     "data": {
      "image/png": "[encoded data removed]",
      "text/plain": [
       "<Figure size 432x288 with 1 Axes>"
      ]
     },
     "metadata": {
      "needs_background": "light"
     },
     "output_type": "display_data"
    }
   ],
   "source": [
    "plt.plot(training_sizes, mnist_training_scores, 'ro-', color = 'b', label = 'train')\n",
    "plt.plot(training_sizes, mnist_validation_scores, 'ro-', color = 'r', label = 'validation')\n",
    "plt.legend()\n",
    "plt.show()"
   ]
  },
  {
   "cell_type": "markdown",
   "metadata": {},
   "source": [
    "## Hyperparameter Tuning"
   ]
  },
  {
   "cell_type": "markdown",
   "metadata": {},
   "source": [
    "For smaller datasets, the validation set contains fewer examples, and our estimate of our error might not be accurate—the estimate has high variance. A way to combat this is to use k-fold cross-validation.  \n",
    "In k-fold cross-validation, the training data is shuffled and partitioned into k disjoint sets. Then the model is trained on k - 1 sets and validated on the kth set. This process is repeated k times with each set chosen as the validation set once. The cross-validation accuracy we report is the accuracy averaged over the k iterations."
   ]
  },
  {
   "cell_type": "code",
   "execution_count": 10,
   "metadata": {},
   "outputs": [],
   "source": [
    "def find_regularization_parameter_SVM(c_values: np.array, validation_data, validation_labels, training_data, training_labels): \n",
    "    validation_scores = []\n",
    "    max_score, max_c = 0, 0\n",
    "    for c_value in c_values:\n",
    "        selected_training_data, selected_training_labels = select_training_examples(10000, training_data, training_labels)\n",
    "        classifier = svm.SVC(C = c_value, kernel=\"linear\")\n",
    "        classifier.fit(selected_training_data, selected_training_labels.ravel())\n",
    "        validation_predictions = classifier.predict(validation_data)\n",
    "        validation_score = accuracy_score(validation_labels, validation_predictions)\n",
    "        validation_scores.append(validation_score)\n",
    "        if validation_score > max_score:\n",
    "            max_score = validation_score\n",
    "            max_c = c_value; \n",
    "    print(\"The best parameter found is \", max_c, \", which has a validation score of \", max_score)\n",
    "    return validation_scores, max_c, max_score"
   ]
  },
  {
   "cell_type": "code",
   "execution_count": 11,
   "metadata": {},
   "outputs": [
    {
     "name": "stdout",
     "output_type": "stream",
     "text": [
      "The best parameter found is  0.1 , which has a validation score of  0.9132\n"
     ]
    }
   ],
   "source": [
    "c_values = [0.1, 0.01, 0.001, 0.0001, ]\n",
    "mnist_validation_scores, mnist_max_c, mnist_max_score = find_regularization_parameter_SVM(c_values, mnist_validation_data, mnist_validation_labels, mnist_training_data, mnist_training_labels)"
   ]
  },
  {
   "cell_type": "code",
   "execution_count": 30,
   "metadata": {},
   "outputs": [
    {
     "data": {
      "image/png": "[encoded data removed]",
      "text/plain": [
       "<Figure size 432x288 with 1 Axes>"
      ]
     },
     "metadata": {
      "needs_background": "light"
     },
     "output_type": "display_data"
    }
   ],
   "source": [
    "y_pos = np.arange(len(c_values))\n",
    "plt.bar(y_pos, mnist_validation_scores, align='center', alpha=0.5)\n",
    "plt.xticks(y_pos, c_values)\n",
    "for i, v in enumerate(mnist_validation_scores):\n",
    "    plt.text(i-.25, \n",
    "              v/mnist_validation_scores[i] - 0.5, \n",
    "              mnist_validation_scores[i])\n",
    "plt.show()"
   ]
  },
  {
   "cell_type": "markdown",
   "metadata": {},
   "source": [
    "## K-Fold Cross-Validation"
   ]
  },
  {
   "cell_type": "code",
   "execution_count": null,
   "metadata": {},
   "outputs": [],
   "source": [
    "def k_fold_cross_validation(training_data, training_labels, validation_data, validation_labels, k: int, c_values: np.array):\n",
    "    index = np.random.permutation(len(training_data))\n",
    "    training_data_partitions = [None] * k\n",
    "    training_labels_partitions = [None] * k\n",
    "    partitiion_size = len(training_data) / k\n",
    "    max_score, max_c = 0, 0\n",
    "    for i in range(k):\n",
    "        start_index = i * partition_size\n",
    "        if i == k - 1:\n",
    "            end_index = len(training_data)\n",
    "        else:\n",
    "            end_index = (i + 1) * partition_size\n",
    "        training_data_partitions[i] = training_data[index][start_index:end_index]\n",
    "        training_labels_partitions[i] = training_labels[index][start_index:end_index]\n",
    "    for c_value in c_values:\n",
    "        validation_scores = []\n",
    "        for i in range(k):\n",
    "            validation_data, validation_labels = training_data_partitions[i], training_labels_partitions[i]\n",
    "            selected_training_data = np.concatenate(training_data_partitions[:i] + training_data_partitions[i+1:], axis = 0)\n",
    "            selected_training_labels = np.concatenate(training_labels_partitions[:i] + training_labels_partitions[i+1:], axis = 0)\n",
    "            classifier = svm.SVC(C = c_value, kernel=\"linear\")\n",
    "            classifier.fit(selected_training_data, selected_training_labels)\n",
    "            validation_predictions = classifier.predict(validation_data)\n",
    "            validation_score = accuracy_score(validation_labels, validation_predictions)\n",
    "            validation_scores.append(validation_score)\n",
    "        print(\"C-value \", c_value, \" has average validation score \", np.mean(validation_scores))\n",
    "        if np.mean(validation_scores) > max_score: \n",
    "            max_score = np.mean(validation_scores)\n",
    "            max_c = c_value \n",
    "    return max_c, max_score"
   ]
  }
 ],
 "metadata": {
  "kernelspec": {
   "display_name": "Python 3",
   "language": "python",
   "name": "python3"
  },
  "language_info": {
   "codemirror_mode": {
    "name": "ipython",
    "version": 3
   },
   "file_extension": ".py",
   "mimetype": "text/x-python",
   "name": "python",
   "nbconvert_exporter": "python",
   "pygments_lexer": "ipython3",
   "version": "3.7.6"
  }
 },
 "nbformat": 4,
 "nbformat_minor": 4
}
